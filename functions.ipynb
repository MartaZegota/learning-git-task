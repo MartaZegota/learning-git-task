{
 "cells": [
  {
   "cell_type": "markdown",
   "id": "1f212c6d",
   "metadata": {},
   "source": [
    "tworząc funkcję używam def"
   ]
  },
  {
   "cell_type": "code",
   "execution_count": null,
   "id": "22cbc30d",
   "metadata": {},
   "outputs": [],
   "source": [
    "def dodawanie dwóch liczb"
   ]
  },
  {
   "cell_type": "markdown",
   "id": "e96e0377",
   "metadata": {},
   "source": [
    "wywołuję działanie; konieczne nawiasy okrągłe"
   ]
  },
  {
   "cell_type": "code",
   "execution_count": 1,
   "id": "7fbc5b4c",
   "metadata": {},
   "outputs": [
    {
     "name": "stdout",
     "output_type": "stream",
     "text": [
      "4\n"
     ]
    }
   ],
   "source": [
    "print(1+3)"
   ]
  },
  {
   "cell_type": "code",
   "execution_count": null,
   "id": "fc3ce1b0",
   "metadata": {},
   "outputs": [],
   "source": []
  }
 ],
 "metadata": {
  "kernelspec": {
   "display_name": "Python 3 (ipykernel)",
   "language": "python",
   "name": "python3"
  },
  "language_info": {
   "codemirror_mode": {
    "name": "ipython",
    "version": 3
   },
   "file_extension": ".py",
   "mimetype": "text/x-python",
   "name": "python",
   "nbconvert_exporter": "python",
   "pygments_lexer": "ipython3",
   "version": "3.10.4"
  }
 },
 "nbformat": 4,
 "nbformat_minor": 5
}
